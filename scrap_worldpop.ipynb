{
 "cells": [
  {
   "cell_type": "code",
   "execution_count": 31,
   "id": "dd78ff16",
   "metadata": {},
   "outputs": [],
   "source": [
    "from bs4 import BeautifulSoup\n",
    "import requests\n",
    "import pandas as pd\n",
    "\n",
    "url = \"https://www.worldometers.info/world-population/population-by-country\"\n",
    "response = requests.get(url)"
   ]
  },
  {
   "cell_type": "code",
   "execution_count": 32,
   "id": "8638630a",
   "metadata": {},
   "outputs": [
    {
     "data": {
      "text/plain": [
       "'Countries in the world by population (2022)'"
      ]
     },
     "execution_count": 32,
     "metadata": {},
     "output_type": "execute_result"
    }
   ],
   "source": [
    "soup = BeautifulSoup(response.text, \"html.parser\")\n",
    "title = soup.find('h1').text\n",
    "title"
   ]
  },
  {
   "cell_type": "code",
   "execution_count": 52,
   "id": "cd64700d",
   "metadata": {},
   "outputs": [],
   "source": [
    "lcountries = []\n",
    "\n",
    "rows = soup.find('table',{'id':'example2'}).find('tbody').find_all('tr')\n",
    "for row in rows:\n",
    "    dic = {}\n",
    "    \n",
    "    dic['country'] = row.find_all('td')[1].text\n",
    "    dic['population'] = row.find_all('td')[2].text.replace(\",\",\"\")\n",
    "    dic['yearly_percentage'] = row.find_all('td')[3].text\n",
    "    dic['yearly_net'] = row.find_all('td')[4].text.replace(\",\",\"\")\n",
    "    dic['density'] = row.find_all('td')[5].text\n",
    "    dic['land_area'] = row.find_all('td')[6].text\n",
    "    dic['migrant'] = row.find_all('td')[7].text\n",
    "    dic['fert_rate'] = row.find_all('td')[8].text\n",
    "    lcountries.append(dic)\n",
    "#     print(row.find_all('td')[1].text)\n",
    "#     print(row.find('a', href=True)['href'])\n",
    "\n",
    "# print(lcountries)"
   ]
  },
  {
   "cell_type": "code",
   "execution_count": 53,
   "id": "6cf75de8",
   "metadata": {},
   "outputs": [],
   "source": [
    "df = pd.DataFrame(lcountries)\n",
    "df.to_excel(\"population.xlsx\", index=False)\n",
    "df.to_csv(\"population.csv\", index=False)"
   ]
  },
  {
   "cell_type": "code",
   "execution_count": null,
   "id": "c1953283",
   "metadata": {},
   "outputs": [],
   "source": []
  }
 ],
 "metadata": {
  "kernelspec": {
   "display_name": "Python 3 (ipykernel)",
   "language": "python",
   "name": "python3"
  },
  "language_info": {
   "codemirror_mode": {
    "name": "ipython",
    "version": 3
   },
   "file_extension": ".py",
   "mimetype": "text/x-python",
   "name": "python",
   "nbconvert_exporter": "python",
   "pygments_lexer": "ipython3",
   "version": "3.9.12"
  }
 },
 "nbformat": 4,
 "nbformat_minor": 5
}
